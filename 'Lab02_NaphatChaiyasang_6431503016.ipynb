{
  "nbformat": 4,
  "nbformat_minor": 0,
  "metadata": {
    "colab": {
      "provenance": [],
      "authorship_tag": "ABX9TyOUscbAA71HSK73WuJGQXOV",
      "include_colab_link": true
    },
    "kernelspec": {
      "name": "python3",
      "display_name": "Python 3"
    },
    "language_info": {
      "name": "python"
    }
  },
  "cells": [
    {
      "cell_type": "markdown",
      "metadata": {
        "id": "view-in-github",
        "colab_type": "text"
      },
      "source": [
        "<a href=\"https://colab.research.google.com/github/Ntdpz/1305313-Intelligent-Computing-2-2565-/blob/main/'Lab02_NaphatChaiyasang_6431503016.ipynb\" target=\"_parent\"><img src=\"https://colab.research.google.com/assets/colab-badge.svg\" alt=\"Open In Colab\"/></a>"
      ]
    },
    {
      "cell_type": "markdown",
      "source": [
        "# Question 1:\n",
        " Using a while loop and for in loop, to create a program to print sum of numbers\n",
        "listNumbers = [1,2,3,4,5,6,7,8,9,10]\n",
        "\n",
        "\n",
        "Hint: using while loop and for in loop\n",
        "len() function return the range of items in array list."
      ],
      "metadata": {
        "id": "ShHNKMkyBJfA"
      }
    },
    {
      "cell_type": "code",
      "source": [
        "listNumbers=[1,2,3,4,5,6,7,8,9,10]\n",
        "forsum = 0\n",
        "for x in listNumbers:\n",
        "  forsum = forsum + x\n",
        "print(\"Using while loop is \" , forsum )\n"
      ],
      "metadata": {
        "colab": {
          "base_uri": "https://localhost:8080/"
        },
        "id": "RJA2L1g3BONT",
        "outputId": "88decb79-516d-4c7d-b353-47dc0207d794"
      },
      "execution_count": 27,
      "outputs": [
        {
          "output_type": "stream",
          "name": "stdout",
          "text": [
            "Using while loop is  55\n"
          ]
        }
      ]
    },
    {
      "cell_type": "code",
      "source": [
        "listNumbers=[1,2,3,4,5,6,7,8,9,10]\n",
        "whilesum = 0\n",
        "i=0\n",
        "while i < len(listNumbers):\n",
        "  whilesum = whilesum + listNumbers[i]\n",
        "  i=i+1\n",
        "print(\"Using while loop is \" , whilesum )"
      ],
      "metadata": {
        "colab": {
          "base_uri": "https://localhost:8080/"
        },
        "id": "-FKFp8wJBQGn",
        "outputId": "8a321d11-0b1f-461e-b4f4-230a13f61b02"
      },
      "execution_count": 28,
      "outputs": [
        {
          "output_type": "stream",
          "name": "stdout",
          "text": [
            "Using while loop is  55\n"
          ]
        }
      ]
    },
    {
      "cell_type": "markdown",
      "source": [
        "# Question 2: Complete the given code to compute tax as shown in the following criteria:\n",
        "\n",
        "a) If the user’s age is greater than 60 years old → no tax\n",
        "\n",
        "b) If the user’s age is less than or equal to 60 years old, then if ...\n",
        "1) Income is greater than 1,000,000 → tax is 30%\n",
        "2) Income is between 500,001 and 1,000,000 → tax is 20%\n",
        "3) Income is between 25,000 and 500,000 → tax is 5%\n",
        "4) Income is less than 25,000 → no tax\n",
        "\n",
        "\n",
        "c) Hint: Create 2 functions\n",
        "1) Function: checkage(age>60):: return true or false\n",
        "2) Function: computerTax(input income parameter to calculate tax):: return tax"
      ],
      "metadata": {
        "id": "vo1MXN9VBSCl"
      }
    },
    {
      "cell_type": "code",
      "execution_count": 25,
      "metadata": {
        "colab": {
          "base_uri": "https://localhost:8080/"
        },
        "id": "rysqonA86gLQ",
        "outputId": "a7f7a140-edea-4dc6-b968-4d531da32290"
      },
      "outputs": [
        {
          "output_type": "stream",
          "name": "stdout",
          "text": [
            "Enter your age: 33\n",
            "Enter your Income :23333\n",
            "You income is less than 25000 bath. 0 Bath\n",
            "You tax is :  0 bath\n"
          ]
        }
      ],
      "source": [
        "### Function check age\n",
        "def checkAge(age):\n",
        "#Insert the missing code here\n",
        "    if age > 60 :\n",
        "        return True\n",
        "    else:\n",
        "        return False\n",
        "    \n",
        "    \n",
        "### Function compute tax of income\n",
        "def computeTax(income):\n",
        "#Insert the missing code here\n",
        "    tax = 0.0\n",
        "    if(int(income) >1000000):\n",
        "      tax=income*0.3\n",
        "      print('You pay tax 30%')\n",
        "        \n",
        "    elif(income>500000):\n",
        "      print('You pay tax 20%')\n",
        "      tax=income*0.2\n",
        "    elif(income>=25000):\n",
        "      print('You pay tax 5%')\n",
        "      tax= income*0.05\n",
        "    else:\n",
        "      tax=0.0\n",
        "      print('You income is less than 25000 bath.', int(tax) ,'Bath')\n",
        "    return tax\n",
        "        \n",
        "############################\n",
        "#### start program ##########\n",
        "age = int(input('Enter your age: '))\n",
        "#Insert the missing code here\n",
        "if(checkAge(age)):\n",
        "    print('No tax')\n",
        "else:\n",
        "    income =int(input('Enter your Income :'))\n",
        "    tax = computeTax(income)\n",
        "    print('You tax is : ',int(tax) , 'bath')\n",
        "    "
      ]
    },
    {
      "cell_type": "markdown",
      "source": [
        "Question 3: Write the program to receive the information from the keyboard ( using an input() function) assign to\n",
        "the list data type inside the list data type, and have a list again to collect two parameters as name and score\n",
        "\n",
        "Hint:\n",
        "• Create a function FindMax(argument_parameter): to find the max score from the student list that you\n",
        "receive from the keyboard\n",
        "o Return two values as max score and name\n",
        "\n",
        "• Using len() function for finding the number of members in the list data type\n",
        "\n",
        "• Using upper() function to convert all lowercase characters to uppercase\n",
        "\n",
        "• Using range() function to return a sequence of numbers from 0 to n-1\n",
        "\n",
        "• Using a while loop for input student information\n",
        "o Exit loop using break\n",
        "o Still receive the information using continue"
      ],
      "metadata": {
        "id": "nAKR_FsRBXPA"
      }
    },
    {
      "cell_type": "code",
      "source": [
        "def Findmax(stdAlllist):\n",
        "  max = 0\n",
        "  name = ''\n",
        "  i=0\n",
        "  print(range(len(stdAlllist)))\n",
        "  for i in range(len(stdAlllist)):\n",
        "    score = stdAlllist[i][1]\n",
        "    if(score > max):\n",
        "      name = stdAlllist[i][0]\n",
        "  return(name,score)\n",
        "\n",
        "stdAlllist=[]\n",
        "stdInfoList=[]\n",
        "while True:\n",
        "  name = input('Enter name : ')\n",
        "  score = int(input('Enter score : '))\n",
        "  stdInfoList.append(name)\n",
        "  stdInfoList.append(score)\n",
        "  stdAlllist.append(stdInfoList)\n",
        "  stdscor=[]\n",
        "  print('==============================')\n",
        "  exit=input('DO you want to exit (Y/N)?')\n",
        "  if exit.upper() =='Y':\n",
        "    break\n",
        "  print('==============================')\n",
        "\n",
        "stdMaxinfo = Findmax(stdAlllist)\n",
        "print(stdInfoList[0], 'gets the highest score of ' , Findmax(stdAlllist))"
      ],
      "metadata": {
        "colab": {
          "base_uri": "https://localhost:8080/"
        },
        "id": "wefvqFHlBZcM",
        "outputId": "4bfb6204-3b14-4d22-8df0-b2e4cc2c08b4"
      },
      "execution_count": 39,
      "outputs": [
        {
          "output_type": "stream",
          "name": "stdout",
          "text": [
            "Enter name : dsfg\n",
            "Enter score : 20\n",
            "==============================\n",
            "DO you want to exit (Y/N)?t\n",
            "==============================\n",
            "Enter name : asdfhj\n",
            "Enter score : 90\n",
            "==============================\n",
            "DO you want to exit (Y/N)?Y\n",
            "range(0, 2)\n",
            "range(0, 2)\n",
            "dsfg gets the highest score of  ('dsfg', 20)\n"
          ]
        }
      ]
    },
    {
      "cell_type": "code",
      "source": [
        "sd"
      ],
      "metadata": {
        "id": "y2a8vAadBzDk"
      },
      "execution_count": null,
      "outputs": []
    }
  ]
}